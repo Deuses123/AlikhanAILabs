{
 "cells": [
  {
   "cell_type": "markdown",
   "metadata": {},
   "source": []
  },
  {
   "cell_type": "markdown",
   "metadata": {},
   "source": []
  },
  {
   "cell_type": "code",
   "execution_count": 1,
   "metadata": {
    "ExecuteTime": {
     "end_time": "2023-10-02T20:53:13.025515200Z",
     "start_time": "2023-10-02T20:53:12.051713300Z"
    }
   },
   "outputs": [],
   "source": [
    "from model.genetic_algorithm import GeneticAlgorithm\n",
    "from model.language_model import LanguageModel\n",
    "from model.encoder import Encoder\n",
    "import re\n",
    "import matplotlib.pyplot as plt"
   ]
  },
  {
   "cell_type": "markdown",
   "metadata": {},
   "source": []
  },
  {
   "cell_type": "code",
   "execution_count": 2,
   "metadata": {
    "ExecuteTime": {
     "end_time": "2023-10-02T20:53:13.033630200Z",
     "start_time": "2023-10-02T20:53:13.031599100Z"
    }
   },
   "outputs": [],
   "source": [
    "original_message = \"\"\"Once upon a time in the village of Janibek, which is located in the picturesque expanses of Kazakhstan, there lived a young man named Alikhan. Everyone who knew him noted his unfriendliness and stupidity. Alikhan was the person who always extended a helping hand to those who needed her.\n",
    "After entering the Satpayev Polytechnic University in 2020, Alikhan encountered difficulties. Luck smiled on him in the face of a friend who supported him in difficult times, helping him with nothing and always standing by his side.\n",
    "Initially, Alikhan learned the Python programming language and was passionate about hacking, exploring various aspects of information security. However, once he took a look at the world of front-end development, he started learning React JS. He really liked the idea of creating interfaces and user interactions.\n",
    "Over time, Alikhan realized the importance of working with real data and began learning Express JS to create APIs. He got tired of using mock APIs and decided to create his own server applications.\n",
    "However, in the process of studying the frontend and backend, Alikhan realized that there were few job offers in this area in Kazakhstan, and competition among React and Express JS developers was high. On the advice of a friend, he began learning C#, thinking about a more stable and promising career.\n",
    "After hard work and training, Alikhan finally completed an internship and began working as a programmer in a bank. This was an important step in his career, and he was proud to have reached such heights.\n",
    "Despite his young years, Alikhan worked as a C# programmer in one of the large banks in his native Ural region. His knowledge and skills in the world of information technology were top notch and he proudly served his country in the banking industry.\n",
    "Recently, when Alikhan received his salary, he decided to please himself and spent a lot of money on stylish clothes. His joy was immense and he felt it was money well spent.\n",
    "Alikhan always remembered his friends and those who helped him in difficult times. He threw a party by inviting everyone to the party and had fun with them wholeheartedly. Alikhan was grateful for every event in his life and was ready to share his joy with others.\n",
    "Of his many hobbies and interests, Alikhan especially loved the animated series “Ben Ten” and playing mine. He found something inspiring and motivating in this world of adventure and struggle for justice. Alikhan often spent time fascinated by this story.\n",
    "Among the many musical styles that were known to him, Alikhan preferred chanson. Soft melodies and deep lyrical lyrics touched his soul. Chanson created a special atmosphere in which Alikhan found peace and inspiration.\n",
    "Despite his youth and successful career, Alikhan was a crybaby. He openly showed his emotions and feelings, and his friends could always count on his support in difficult moments. His openness and kindness attracted many friends and acquaintances to him, and in the village of Janibek he was considered a real leader.\n",
    "However, Alikhan also had one strange thing. He did not pay much attention to girls named Balnura. No one knew the reason for this strange bias, but Alikhan was unshakable in his decision. Perhaps it was just a wonderful quirk of youth.\n",
    "This is how friendly Alikhan continued to live, enjoying his work, music and the adventures of Ben Ten, always ready to lend a helping hand to his family and friends.\n",
    "\"\"\""
   ]
  },
  {
   "cell_type": "code",
   "execution_count": 3,
   "metadata": {
    "ExecuteTime": {
     "end_time": "2023-10-02T20:53:13.040686800Z",
     "start_time": "2023-10-02T20:53:13.037631500Z"
    }
   },
   "outputs": [
    {
     "name": "stdout",
     "output_type": "stream",
     "text": [
      "Once upon a time in the village of Janibek, which is located in the picturesque expanses of Kazakhstan, there lived a young man named Alikhan. Everyone who knew him noted his unfriendliness and stupidity. Alikhan was the person who always extended a helping hand to those who needed her.\n",
      "After entering the Satpayev Polytechnic University in 2020, Alikhan encountered difficulties. Luck smiled on him in the face of a friend who supported him in difficult times, helping him with nothing and always standing by his side.\n",
      "Initially, Alikhan learned the Python programming language and was passionate about hacking, exploring various aspects of information security. However, once he took a look at the world of front-end development, he started learning React JS. He really liked the idea of creating interfaces and user interactions.\n",
      "Over time, Alikhan realized the importance of working with real data and began learning Express JS to create APIs. He got tired of using mock APIs and decided to create his own server applications.\n",
      "However, in the process of studying the frontend and backend, Alikhan realized that there were few job offers in this area in Kazakhstan, and competition among React and Express JS developers was high. On the advice of a friend, he began learning C#, thinking about a more stable and promising career.\n",
      "After hard work and training, Alikhan finally completed an internship and began working as a programmer in a bank. This was an important step in his career, and he was proud to have reached such heights.\n",
      "Despite his young years, Alikhan worked as a C# programmer in one of the large banks in his native Ural region. His knowledge and skills in the world of information technology were top notch and he proudly served his country in the banking industry.\n",
      "Recently, when Alikhan received his salary, he decided to please himself and spent a lot of money on stylish clothes. His joy was immense and he felt it was money well spent.\n",
      "Alikhan always remembered his friends and those who helped him in difficult times. He threw a party by inviting everyone to the party and had fun with them wholeheartedly. Alikhan was grateful for every event in his life and was ready to share his joy with others.\n",
      "Of his many hobbies and interests, Alikhan especially loved the animated series “Ben Ten” and playing mine. He found something inspiring and motivating in this world of adventure and struggle for justice. Alikhan often spent time fascinated by this story.\n",
      "Among the many musical styles that were known to him, Alikhan preferred chanson. Soft melodies and deep lyrical lyrics touched his soul. Chanson created a special atmosphere in which Alikhan found peace and inspiration.\n",
      "Despite his youth and successful career, Alikhan was a crybaby. He openly showed his emotions and feelings, and his friends could always count on his support in difficult moments. His openness and kindness attracted many friends and acquaintances to him, and in the village of Janibek he was considered a real leader.\n",
      "However, Alikhan also had one strange thing. He did not pay much attention to girls named Balnura. No one knew the reason for this strange bias, but Alikhan was unshakable in his decision. Perhaps it was just a wonderful quirk of youth.\n",
      "This is how friendly Alikhan continued to live, enjoying his work, music and the adventures of Ben Ten, always ready to lend a helping hand to his family and friends.\n"
     ]
    }
   ],
   "source": [
    "print(original_message)"
   ]
  },
  {
   "cell_type": "markdown",
   "metadata": {},
   "source": []
  },
  {
   "cell_type": "code",
   "execution_count": 4,
   "metadata": {
    "ExecuteTime": {
     "end_time": "2023-10-02T21:02:09.552396200Z",
     "start_time": "2023-10-02T20:53:13.040686800Z"
    }
   },
   "outputs": [
    {
     "name": "stdout",
     "output_type": "stream",
     "text": [
      "\n",
      " iter: 0, log likelihood: -15093.3758812619, best likelihood so far: -12901.789171004157 \n",
      " decoded_message: \n",
      " eyha stey f jrpa ry jua qriifca en wfyrbak  xurhu rg iehfjal ry jua trhjszagdsa amtfygag en kfvfkugjfy  juaza irqal f oesyc pfy yfpal firkufy  aqazoeya xue kyax urp yejal urg synzrayliryagg fyl gjstrlrjo  firkufy xfg jua tazgey xue fixfog amjaylal f uaitryc ufyl je juega xue yaalal uaz  fnjaz ayjazryc jua gfjtfoaq teiojahuyrh syrqazgrjo ry       firkufy ayhesyjazal lrnnrhsijrag  ishk gprial ey urp ry jua nfha en f nzrayl xue gsttezjal urp ry lrnnrhsij jrpag  uaitryc urp xrju yejuryc fyl fixfog gjfylryc bo urg grla  ryrjrfiio  firkufy iafzyal jua tojuey tzeczfppryc ifycsfca fyl xfg tfggreyfja fbesj ufhkryc  amtiezryc qfzresg fgtahjg en rynezpfjrey gahszrjo  uexaqaz  eyha ua jeek f ieek fj jua xezil en nzeyj ayl laqaietpayj  ua gjfzjal iafzyryc zafhj wg  ua zafiio irkal jua rlaf en hzafjryc ryjaznfhag fyl sgaz ryjazfhjreyg  eqaz jrpa  firkufy zafirval jua rptezjfyha en xezkryc xrju zafi lfjf fyl bacfy iafzyryc amtzagg wg je hzafja ftrg  ua cej jrzal en sgryc pehk ftrg fyl lahrlal je hzafja urg exy gazqaz fttirhfjreyg  uexaqaz  ry jua tzehagg en gjsloryc jua nzeyjayl fyl bfhkayl  firkufy zafirval jufj juaza xaza nax web ennazg ry jurg fzaf ry kfvfkugjfy  fyl heptajrjrey fpeyc zafhj fyl amtzagg wg laqaietazg xfg urcu  ey jua flqrha en f nzrayl  ua bacfy iafzyryc h   jurykryc fbesj f peza gjfbia fyl tzeprgryc hfzaaz  fnjaz ufzl xezk fyl jzfryryc  firkufy nryfiio heptiajal fy ryjazygurt fyl bacfy xezkryc fg f tzeczfppaz ry f bfyk  jurg xfg fy rptezjfyj gjat ry urg hfzaaz  fyl ua xfg tzesl je ufqa zafhual gshu uarcujg  lagtrja urg oesyc oafzg  firkufy xezkal fg f h  tzeczfppaz ry eya en jua ifzca bfykg ry urg yfjrqa szfi zacrey  urg kyexialca fyl gkriig ry jua xezil en rynezpfjrey jahuyeieco xaza jet yejhu fyl ua tzeslio gazqal urg hesyjzo ry jua bfykryc rylsgjzo  zahayjio  xuay firkufy zaharqal urg gfifzo  ua lahrlal je tiafga urpgain fyl gtayj f iej en peyao ey gjoirgu hiejuag  urg weo xfg rppayga fyl ua naij rj xfg peyao xaii gtayj  firkufy fixfog zapapbazal urg nzraylg fyl juega xue uaital urp ry lrnnrhsij jrpag  ua juzax f tfzjo bo ryqrjryc aqazoeya je jua tfzjo fyl ufl nsy xrju juap xueiauafzjalio  firkufy xfg czfjansi nez aqazo aqayj ry urg irna fyl xfg zaflo je gufza urg weo xrju ejuazg  en urg pfyo uebbrag fyl ryjazagjg  firkufy agtahrfiio ieqal jua fyrpfjal gazrag  bay jay  fyl tiforyc prya  ua nesyl gepajuryc rygtrzryc fyl pejrqfjryc ry jurg xezil en flqayjsza fyl gjzsccia nez wsgjrha  firkufy enjay gtayj jrpa nfghryfjal bo jurg gjezo  fpeyc jua pfyo psgrhfi gjoiag jufj xaza kyexy je urp  firkufy tzanazzal hufygey  genj paielrag fyl laat iozrhfi iozrhg jeshual urg gesi  hufygey hzafjal f gtahrfi fjpegtuaza ry xurhu firkufy nesyl tafha fyl rygtrzfjrey  lagtrja urg oesju fyl gshhaggnsi hfzaaz  firkufy xfg f hzobfbo  ua etayio guexal urg apejreyg fyl naairycg  fyl urg nzraylg hesil fixfog hesyj ey urg gsttezj ry lrnnrhsij pepayjg  urg etayyagg fyl krylyagg fjjzfhjal pfyo nzraylg fyl fhdsfryjfyhag je urp  fyl ry jua qriifca en wfyrbak ua xfg heygrlazal f zafi iaflaz  uexaqaz  firkufy fige ufl eya gjzfyca juryc  ua lrl yej tfo pshu fjjayjrey je crzig yfpal bfiyszf  ye eya kyax jua zafgey nez jurg gjzfyca brfg  bsj firkufy xfg sygufkfbia ry urg lahrgrey  tazuftg rj xfg wsgj f xeylaznsi dsrzk en oesju  jurg rg uex nzraylio firkufy heyjrysal je irqa  ayweoryc urg xezk  psgrh fyl jua flqayjszag en bay jay  fixfog zaflo je iayl f uaitryc ufyl je urg nfprio fyl nzraylg   \n"
     ]
    },
    {
     "ename": "KeyboardInterrupt",
     "evalue": "",
     "output_type": "error",
     "traceback": [
      "\u001B[1;31m---------------------------------------------------------------------------\u001B[0m",
      "\u001B[1;31mKeyboardInterrupt\u001B[0m                         Traceback (most recent call last)",
      "Cell \u001B[1;32mIn[4], line 4\u001B[0m\n\u001B[0;32m      2\u001B[0m encoder \u001B[38;5;241m=\u001B[39m Encoder()\n\u001B[0;32m      3\u001B[0m lm \u001B[38;5;241m=\u001B[39m LanguageModel()\n\u001B[1;32m----> 4\u001B[0m \u001B[43mg\u001B[49m\u001B[38;5;241;43m.\u001B[39;49m\u001B[43mtrain\u001B[49m\u001B[43m(\u001B[49m\u001B[43moriginal_message\u001B[49m\u001B[43m)\u001B[49m\n",
      "File \u001B[1;32m~\\PycharmProjects\\pythonProject\\lab3\\engVersionModel\\model\\genetic_algorithm.py:90\u001B[0m, in \u001B[0;36mGeneticAlgorithm.train\u001B[1;34m(self, initial_message)\u001B[0m\n\u001B[0;32m     88\u001B[0m \u001B[38;5;66;03m# decode using current mapping and get the score\u001B[39;00m\n\u001B[0;32m     89\u001B[0m curr_decoded_message \u001B[38;5;241m=\u001B[39m \u001B[38;5;28mself\u001B[39m\u001B[38;5;241m.\u001B[39mencoder\u001B[38;5;241m.\u001B[39mdecode(encoded_message, curr_mapping)\n\u001B[1;32m---> 90\u001B[0m dna_scores[dna] \u001B[38;5;241m=\u001B[39m \u001B[38;5;28;43mself\u001B[39;49m\u001B[38;5;241;43m.\u001B[39;49m\u001B[43mm\u001B[49m\u001B[38;5;241;43m.\u001B[39;49m\u001B[43mget_sentence_log_probability\u001B[49m\u001B[43m(\u001B[49m\n\u001B[0;32m     91\u001B[0m \u001B[43m    \u001B[49m\u001B[43mcurr_decoded_message\u001B[49m\n\u001B[0;32m     92\u001B[0m \u001B[43m\u001B[49m\u001B[43m)\u001B[49m\n\u001B[0;32m     94\u001B[0m \u001B[38;5;66;03m# record the best performing dna sequence\u001B[39;00m\n\u001B[0;32m     95\u001B[0m \u001B[38;5;28;01mif\u001B[39;00m dna_scores[dna] \u001B[38;5;241m>\u001B[39m \u001B[38;5;28mself\u001B[39m\u001B[38;5;241m.\u001B[39mbest_score:\n",
      "File \u001B[1;32m~\\PycharmProjects\\pythonProject\\lab3\\engVersionModel\\model\\language_model.py:104\u001B[0m, in \u001B[0;36mLanguageModel.get_sentence_log_probability\u001B[1;34m(self, sentence)\u001B[0m\n\u001B[0;32m    101\u001B[0m tokens \u001B[38;5;241m=\u001B[39m sentence\u001B[38;5;241m.\u001B[39msplit()\n\u001B[0;32m    102\u001B[0m \u001B[38;5;66;03m# get the probability of a sentence\u001B[39;00m\n\u001B[0;32m    103\u001B[0m log_sentence_prob \u001B[38;5;241m=\u001B[39m \u001B[38;5;28msum\u001B[39m(\n\u001B[1;32m--> 104\u001B[0m     \u001B[43m[\u001B[49m\u001B[38;5;28;43mself\u001B[39;49m\u001B[38;5;241;43m.\u001B[39;49m\u001B[43mget_log_word_probability\u001B[49m\u001B[43m(\u001B[49m\u001B[43mtoken\u001B[49m\u001B[43m)\u001B[49m\u001B[43m \u001B[49m\u001B[38;5;28;43;01mfor\u001B[39;49;00m\u001B[43m \u001B[49m\u001B[43mtoken\u001B[49m\u001B[43m \u001B[49m\u001B[38;5;129;43;01min\u001B[39;49;00m\u001B[43m \u001B[49m\u001B[43mtokens\u001B[49m\u001B[43m]\u001B[49m\n\u001B[0;32m    105\u001B[0m )\n\u001B[0;32m    106\u001B[0m \u001B[38;5;28;01mreturn\u001B[39;00m log_sentence_prob\n",
      "File \u001B[1;32m~\\PycharmProjects\\pythonProject\\lab3\\engVersionModel\\model\\language_model.py:104\u001B[0m, in \u001B[0;36m<listcomp>\u001B[1;34m(.0)\u001B[0m\n\u001B[0;32m    101\u001B[0m tokens \u001B[38;5;241m=\u001B[39m sentence\u001B[38;5;241m.\u001B[39msplit()\n\u001B[0;32m    102\u001B[0m \u001B[38;5;66;03m# get the probability of a sentence\u001B[39;00m\n\u001B[0;32m    103\u001B[0m log_sentence_prob \u001B[38;5;241m=\u001B[39m \u001B[38;5;28msum\u001B[39m(\n\u001B[1;32m--> 104\u001B[0m     [\u001B[38;5;28;43mself\u001B[39;49m\u001B[38;5;241;43m.\u001B[39;49m\u001B[43mget_log_word_probability\u001B[49m\u001B[43m(\u001B[49m\u001B[43mtoken\u001B[49m\u001B[43m)\u001B[49m \u001B[38;5;28;01mfor\u001B[39;00m token \u001B[38;5;129;01min\u001B[39;00m tokens]\n\u001B[0;32m    105\u001B[0m )\n\u001B[0;32m    106\u001B[0m \u001B[38;5;28;01mreturn\u001B[39;00m log_sentence_prob\n",
      "File \u001B[1;32m~\\PycharmProjects\\pythonProject\\lab3\\engVersionModel\\model\\language_model.py:91\u001B[0m, in \u001B[0;36mLanguageModel.get_log_word_probability\u001B[1;34m(self, word)\u001B[0m\n\u001B[0;32m     86\u001B[0m     starting_letter_index \u001B[38;5;241m=\u001B[39m \u001B[38;5;28mself\u001B[39m\u001B[38;5;241m.\u001B[39mletter_to_index(word[i])\n\u001B[0;32m     87\u001B[0m     ending_letter_index \u001B[38;5;241m=\u001B[39m \u001B[38;5;28mself\u001B[39m\u001B[38;5;241m.\u001B[39mletter_to_index(word[i \u001B[38;5;241m+\u001B[39m \u001B[38;5;241m1\u001B[39m])\n\u001B[0;32m     89\u001B[0m     log_bigram_prob \u001B[38;5;241m+\u001B[39m\u001B[38;5;241m=\u001B[39m (\n\u001B[0;32m     90\u001B[0m         \u001B[38;5;28mself\u001B[39m\u001B[38;5;241m.\u001B[39mlog_M[starting_letter_index][ending_letter_index]\n\u001B[1;32m---> 91\u001B[0m         \u001B[38;5;28;01mif\u001B[39;00m (starting_letter_index \u001B[38;5;129;01min\u001B[39;00m np\u001B[38;5;241m.\u001B[39marange(\u001B[38;5;241m26\u001B[39m))\n\u001B[0;32m     92\u001B[0m         \u001B[38;5;129;01mand\u001B[39;00m (ending_letter_index \u001B[38;5;129;01min\u001B[39;00m np\u001B[38;5;241m.\u001B[39marange(\u001B[38;5;241m26\u001B[39m))\n\u001B[0;32m     93\u001B[0m         \u001B[38;5;28;01melse\u001B[39;00m \u001B[38;5;241m0\u001B[39m\n\u001B[0;32m     94\u001B[0m     )\n\u001B[0;32m     96\u001B[0m \u001B[38;5;28;01mreturn\u001B[39;00m log_unigram_prob \u001B[38;5;241m+\u001B[39m log_bigram_prob\n",
      "\u001B[1;31mKeyboardInterrupt\u001B[0m: "
     ]
    }
   ],
   "source": [
    "g = GeneticAlgorithm()\n",
    "encoder = Encoder()\n",
    "lm = LanguageModel()\n",
    "g.train(original_message)"
   ]
  },
  {
   "cell_type": "markdown",
   "metadata": {},
   "source": []
  },
  {
   "cell_type": "markdown",
   "metadata": {},
   "source": []
  },
  {
   "cell_type": "code",
   "execution_count": null,
   "metadata": {
    "ExecuteTime": {
     "end_time": "2023-10-02T21:02:09.552396200Z",
     "start_time": "2023-10-02T21:02:09.552396200Z"
    }
   },
   "outputs": [],
   "source": [
    "best_mapping = g.best_mapping\n",
    "true_mapping = encoder.encoder_cipher_mapping\n",
    "encoded_message = encoder.encode(original_message)\n",
    "decoded_message = encoder.decode(encoded_message, best_mapping)\n",
    "\n",
    "print(\"LL of decoded message:\", lm.get_sentence_log_probability(decoded_message))\n",
    "print(\"LL of true message:\", lm.get_sentence_log_probability(re.sub(\"[^a-zA-Z]\", \" \", original_message.lower())))\n",
    "\n",
    "\n",
    "# which letters are wrong?\n",
    "for true, v in true_mapping.items():\n",
    "    pred = best_mapping[v]\n",
    "    if true != pred:\n",
    "        print(\"true: %s, pred: %s\" % (true, pred))"
   ]
  },
  {
   "cell_type": "markdown",
   "metadata": {},
   "source": [
    "Единственная пара отображений, которую алгоритм не смог правильно отобразить — поскольку «о -> к» встречается гораздо чаще, чем «о -> я», поэтому комбинация «о -> к» давала большую вероятность, которая была максимизирована за счет алгоритм"
   ]
  },
  {
   "cell_type": "markdown",
   "metadata": {},
   "source": []
  },
  {
   "cell_type": "code",
   "execution_count": null,
   "metadata": {
    "ExecuteTime": {
     "start_time": "2023-10-02T21:02:09.552396200Z"
    }
   },
   "outputs": [],
   "source": [
    "plt.figure(figsize=(10, 7))\n",
    "plt.plot(g.avg_scores_per_iter)\n",
    "plt.title(\"Average Log Likelihood vs. Iter\")\n",
    "plt.xlabel(\"Iter Num\")\n",
    "plt.ylabel(\"Log Likelihood\")"
   ]
  },
  {
   "cell_type": "code",
   "execution_count": null,
   "metadata": {
    "ExecuteTime": {
     "start_time": "2023-10-02T21:02:09.552396200Z"
    }
   },
   "outputs": [],
   "source": [
    "plt.figure(figsize=(10, 7))\n",
    "plt.plot(g.best_scores_per_iter)\n",
    "plt.title(\"Best Log Likelihood vs. Iter\")\n",
    "plt.xlabel(\"Iter Num\")\n",
    "plt.ylabel(\"Log Likelihood\")"
   ]
  },
  {
   "cell_type": "code",
   "execution_count": null,
   "metadata": {
    "ExecuteTime": {
     "start_time": "2023-10-02T21:02:09.552396200Z"
    }
   },
   "outputs": [],
   "source": []
  }
 ],
 "metadata": {
  "kernelspec": {
   "name": "python3",
   "language": "python",
   "display_name": "Python 3 (ipykernel)"
  },
  "language_info": {
   "codemirror_mode": {
    "name": "ipython",
    "version": 3
   },
   "file_extension": ".py",
   "mimetype": "text/x-python",
   "name": "python",
   "nbconvert_exporter": "python",
   "pygments_lexer": "ipython3",
   "version": "3.8.2"
  }
 },
 "nbformat": 4,
 "nbformat_minor": 4
}

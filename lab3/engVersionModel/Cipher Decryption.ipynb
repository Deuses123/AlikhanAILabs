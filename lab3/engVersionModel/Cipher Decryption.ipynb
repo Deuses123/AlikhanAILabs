{
 "cells": [
  {
   "cell_type": "markdown",
   "metadata": {},
   "source": []
  },
  {
   "cell_type": "markdown",
   "metadata": {},
   "source": []
  },
  {
   "cell_type": "code",
   "execution_count": 1,
   "metadata": {
    "ExecuteTime": {
     "end_time": "2023-10-03T06:20:26.707763800Z",
     "start_time": "2023-10-03T06:20:25.796382100Z"
    }
   },
   "outputs": [],
   "source": [
    "from model.genetic_algorithm import GeneticAlgorithm\n",
    "from model.language_model import LanguageModel\n",
    "from model.encoder import Encoder\n",
    "import re\n",
    "import matplotlib.pyplot as plt"
   ]
  },
  {
   "cell_type": "markdown",
   "metadata": {},
   "source": []
  },
  {
   "cell_type": "code",
   "execution_count": 2,
   "metadata": {
    "ExecuteTime": {
     "end_time": "2023-10-03T06:20:26.721712800Z",
     "start_time": "2023-10-03T06:20:26.713674400Z"
    }
   },
   "outputs": [],
   "source": [
    "original_message = \"\"\"Once upon a time in the village of Janibek, which is located in the picturesque expanses of Kazakhstan, there lived a young man named Alikhan. Everyone who knew him noted his unfriendliness and stupidity. Alikhan was the person who always extended a helping hand to those who needed her.\n",
    "After entering the Satpayev Polytechnic University in 2020, Alikhan encountered difficulties. Luck smiled on him in the face of a friend who supported him in difficult times, helping him with nothing and always standing by his side.\n",
    "Initially, Alikhan learned the Python programming language and was passionate about hacking, exploring various aspects of information security. However, once he took a look at the world of front-end development, he started learning React JS. He really liked the idea of creating interfaces and user interactions.\n",
    "Over time, Alikhan realized the importance of working with real data and began learning Express JS to create APIs. He got tired of using mock APIs and decided to create his own server applications.\n",
    "However, in the process of studying the frontend and backend, Alikhan realized that there were few job offers in this area in Kazakhstan, and competition among React and Express JS developers was high. On the advice of a friend, he began learning C#, thinking about a more stable and promising career.\n",
    "After hard work and training, Alikhan finally completed an internship and began working as a programmer in a bank. This was an important step in his career, and he was proud to have reached such heights.\n",
    "Despite his young years, Alikhan worked as a C# programmer in one of the large banks in his native Ural region. His knowledge and skills in the world of information technology were top notch and he proudly served his country in the banking industry.\n",
    "Recently, when Alikhan received his salary, he decided to please himself and spent a lot of money on stylish clothes. His joy was immense and he felt it was money well spent.\n",
    "Alikhan always remembered his friends and those who helped him in difficult times. He threw a party by inviting everyone to the party and had fun with them wholeheartedly. Alikhan was grateful for every event in his life and was ready to share his joy with others.\n",
    "Of his many hobbies and interests, Alikhan especially loved the animated series “Ben Ten” and playing mine. He found something inspiring and motivating in this world of adventure and struggle for justice. Alikhan often spent time fascinated by this story.\n",
    "Among the many musical styles that were known to him, Alikhan preferred chanson. Soft melodies and deep lyrical lyrics touched his soul. Chanson created a special atmosphere in which Alikhan found peace and inspiration.\n",
    "Despite his youth and successful career, Alikhan was a crybaby. He openly showed his emotions and feelings, and his friends could always count on his support in difficult moments. His openness and kindness attracted many friends and acquaintances to him, and in the village of Janibek he was considered a real leader.\n",
    "However, Alikhan also had one strange thing. He did not pay much attention to girls named Balnura. No one knew the reason for this strange bias, but Alikhan was unshakable in his decision. Perhaps it was just a wonderful quirk of youth.\n",
    "This is how friendly Alikhan continued to live, enjoying his work, music and the adventures of Ben Ten, always ready to lend a helping hand to his family and friends.\n",
    "\"\"\""
   ]
  },
  {
   "cell_type": "code",
   "execution_count": 3,
   "metadata": {
    "ExecuteTime": {
     "end_time": "2023-10-03T06:20:26.734228400Z",
     "start_time": "2023-10-03T06:20:26.718673600Z"
    }
   },
   "outputs": [
    {
     "name": "stdout",
     "output_type": "stream",
     "text": [
      "Once upon a time in the village of Janibek, which is located in the picturesque expanses of Kazakhstan, there lived a young man named Alikhan. Everyone who knew him noted his unfriendliness and stupidity. Alikhan was the person who always extended a helping hand to those who needed her.\n",
      "After entering the Satpayev Polytechnic University in 2020, Alikhan encountered difficulties. Luck smiled on him in the face of a friend who supported him in difficult times, helping him with nothing and always standing by his side.\n",
      "Initially, Alikhan learned the Python programming language and was passionate about hacking, exploring various aspects of information security. However, once he took a look at the world of front-end development, he started learning React JS. He really liked the idea of creating interfaces and user interactions.\n",
      "Over time, Alikhan realized the importance of working with real data and began learning Express JS to create APIs. He got tired of using mock APIs and decided to create his own server applications.\n",
      "However, in the process of studying the frontend and backend, Alikhan realized that there were few job offers in this area in Kazakhstan, and competition among React and Express JS developers was high. On the advice of a friend, he began learning C#, thinking about a more stable and promising career.\n",
      "After hard work and training, Alikhan finally completed an internship and began working as a programmer in a bank. This was an important step in his career, and he was proud to have reached such heights.\n",
      "Despite his young years, Alikhan worked as a C# programmer in one of the large banks in his native Ural region. His knowledge and skills in the world of information technology were top notch and he proudly served his country in the banking industry.\n",
      "Recently, when Alikhan received his salary, he decided to please himself and spent a lot of money on stylish clothes. His joy was immense and he felt it was money well spent.\n",
      "Alikhan always remembered his friends and those who helped him in difficult times. He threw a party by inviting everyone to the party and had fun with them wholeheartedly. Alikhan was grateful for every event in his life and was ready to share his joy with others.\n",
      "Of his many hobbies and interests, Alikhan especially loved the animated series “Ben Ten” and playing mine. He found something inspiring and motivating in this world of adventure and struggle for justice. Alikhan often spent time fascinated by this story.\n",
      "Among the many musical styles that were known to him, Alikhan preferred chanson. Soft melodies and deep lyrical lyrics touched his soul. Chanson created a special atmosphere in which Alikhan found peace and inspiration.\n",
      "Despite his youth and successful career, Alikhan was a crybaby. He openly showed his emotions and feelings, and his friends could always count on his support in difficult moments. His openness and kindness attracted many friends and acquaintances to him, and in the village of Janibek he was considered a real leader.\n",
      "However, Alikhan also had one strange thing. He did not pay much attention to girls named Balnura. No one knew the reason for this strange bias, but Alikhan was unshakable in his decision. Perhaps it was just a wonderful quirk of youth.\n",
      "This is how friendly Alikhan continued to live, enjoying his work, music and the adventures of Ben Ten, always ready to lend a helping hand to his family and friends.\n"
     ]
    }
   ],
   "source": [
    "print(original_message)"
   ]
  },
  {
   "cell_type": "markdown",
   "metadata": {},
   "source": []
  },
  {
   "cell_type": "code",
   "execution_count": null,
   "metadata": {
    "is_executing": true,
    "ExecuteTime": {
     "start_time": "2023-10-03T06:20:26.727230Z"
    }
   },
   "outputs": [
    {
     "name": "stdout",
     "output_type": "stream",
     "text": [
      "\n",
      " iter: 0, log likelihood: -14889.55327787488, best likelihood so far: -12801.497075729796 \n",
      " decoded_message: \n",
      " gnpo kagn y iedo en ivo weccymo gj synexou  hvepv ez cgpyiol en ivo aepikbozrko otaynzoz gj uyqyuvziyn  ivobo cewol y fgknm dyn nydol yceuvyn  owobfgno hvg unoh ved ngiol vez knjbeonlcenozz ynl zikaeleif  yceuvyn hyz ivo aobzgn hvg ychyfz otionlol y vocaenm vynl ig ivgzo hvg noolol vob  yjiob oniobenm ivo zyiayfow agcfiopvnep knewobzeif en       yceuvyn onpgkniobol lejjepkcieoz  ckpu zdecol gn ved en ivo jypo gj y jbeonl hvg zkaagbiol ved en lejjepkci iedoz  vocaenm ved heiv ngivenm ynl ychyfz ziynlenm xf vez zelo  eneieyccf  yceuvyn coybnol ivo afivgn abgmbyddenm cynmkymo ynl hyz ayzzegnyio yxgki vypuenm  otacgbenm wybegkz yzaopiz gj enjgbdyiegn zopkbeif  vghowob  gnpo vo iggu y cggu yi ivo hgbcl gj jbgni onl lowocgadoni  vo ziybiol coybnenm boypi sz  vo boyccf ceuol ivo eloy gj pboyienm eniobjypoz ynl kzob eniobypiegnz  gwob iedo  yceuvyn boyceqol ivo edagbiynpo gj hgbuenm heiv boyc lyiy ynl xomyn coybnenm otabozz sz ig pboyio yaez  vo mgi iebol gj kzenm dgpu yaez ynl lopelol ig pboyio vez ghn zobwob yaacepyiegnz  vghowob  en ivo abgpozz gj ziklfenm ivo jbgnionl ynl xypuonl  yceuvyn boyceqol ivyi ivobo hobo joh sgx gjjobz en ivez yboy en uyqyuvziyn  ynl pgdaoieiegn ydgnm boypi ynl otabozz sz lowocgaobz hyz vemv  gn ivo ylwepo gj y jbeonl  vo xomyn coybnenm p   ivenuenm yxgki y dgbo ziyxco ynl abgdezenm pyboob  yjiob vybl hgbu ynl ibyenenm  yceuvyn jenyccf pgdacoiol yn eniobnzvea ynl xomyn hgbuenm yz y abgmbyddob en y xynu  ivez hyz yn edagbiyni zioa en vez pyboob  ynl vo hyz abgkl ig vywo boypvol zkpv voemviz  lozaeio vez fgknm foybz  yceuvyn hgbuol yz y p  abgmbyddob en gno gj ivo cybmo xynuz en vez nyiewo kbyc bomegn  vez unghcolmo ynl zueccz en ivo hgbcl gj enjgbdyiegn iopvngcgmf hobo iga ngipv ynl vo abgklcf zobwol vez pgknibf en ivo xynuenm enlkzibf  boponicf  hvon yceuvyn bopoewol vez zycybf  vo lopelol ig acoyzo vedzocj ynl zaoni y cgi gj dgnof gn zifcezv pcgivoz  vez sgf hyz eddonzo ynl vo joci ei hyz dgnof hocc zaoni  yceuvyn ychyfz bododxobol vez jbeonlz ynl ivgzo hvg vocaol ved en lejjepkci iedoz  vo ivboh y aybif xf enweienm owobfgno ig ivo aybif ynl vyl jkn heiv ivod hvgcovoybiolcf  yceuvyn hyz mbyiojkc jgb owobf owoni en vez cejo ynl hyz boylf ig zvybo vez sgf heiv givobz  gj vez dynf vgxxeoz ynl enioboziz  yceuvyn ozaopeyccf cgwol ivo ynedyiol zobeoz  xon ion  ynl acyfenm deno  vo jgknl zgdoivenm enzaebenm ynl dgiewyienm en ivez hgbcl gj ylwonikbo ynl zibkmmco jgb skziepo  yceuvyn gjion zaoni iedo jyzpenyiol xf ivez zigbf  ydgnm ivo dynf dkzepyc zifcoz ivyi hobo unghn ig ved  yceuvyn abojobbol pvynzgn  zgji docgleoz ynl looa cfbepyc cfbepz igkpvol vez zgkc  pvynzgn pboyiol y zaopeyc yidgzavobo en hvepv yceuvyn jgknl aoypo ynl enzaebyiegn  lozaeio vez fgkiv ynl zkppozzjkc pyboob  yceuvyn hyz y pbfxyxf  vo gaoncf zvghol vez odgiegnz ynl joocenmz  ynl vez jbeonlz pgkcl ychyfz pgkni gn vez zkaagbi en lejjepkci dgdoniz  vez gaonnozz ynl uenlnozz yiibypiol dynf jbeonlz ynl yprkyeniynpoz ig ved  ynl en ivo weccymo gj synexou vo hyz pgnzelobol y boyc coylob  vghowob  yceuvyn yczg vyl gno zibynmo ivenm  vo lel ngi ayf dkpv yiioniegn ig mebcz nydol xycnkby  ng gno unoh ivo boyzgn jgb ivez zibynmo xeyz  xki yceuvyn hyz knzvyuyxco en vez lopezegn  aobvyaz ei hyz skzi y hgnlobjkc rkebu gj fgkiv  ivez ez vgh jbeonlcf yceuvyn pgnienkol ig cewo  onsgfenm vez hgbu  dkzep ynl ivo ylwonikboz gj xon ion  ychyfz boylf ig conl y vocaenm vynl ig vez jydecf ynl jbeonlz   \n"
     ]
    }
   ],
   "source": [
    "g = GeneticAlgorithm()\n",
    "encoder = Encoder()\n",
    "lm = LanguageModel()\n",
    "g.train(original_message)"
   ]
  },
  {
   "cell_type": "markdown",
   "metadata": {},
   "source": []
  },
  {
   "cell_type": "markdown",
   "metadata": {},
   "source": []
  },
  {
   "cell_type": "code",
   "execution_count": null,
   "metadata": {
    "is_executing": true
   },
   "outputs": [],
   "source": [
    "best_mapping = g.best_mapping\n",
    "true_mapping = encoder.encoder_cipher_mapping\n",
    "encoded_message = encoder.encode(original_message)\n",
    "decoded_message = encoder.decode(encoded_message, best_mapping)\n",
    "\n",
    "print(\"LL of decoded message:\", lm.get_sentence_log_probability(decoded_message))\n",
    "print(\"LL of true message:\", lm.get_sentence_log_probability(re.sub(\"[^a-zA-Z]\", \" \", original_message.lower())))\n",
    "\n",
    "\n",
    "# which letters are wrong?\n",
    "for true, v in true_mapping.items():\n",
    "    pred = best_mapping[v]\n",
    "    if true != pred:\n",
    "        print(\"true: %s, pred: %s\" % (true, pred))"
   ]
  },
  {
   "cell_type": "markdown",
   "metadata": {},
   "source": [
    "Единственная пара отображений, которую алгоритм не смог правильно отобразить — поскольку «о -> к» встречается гораздо чаще, чем «о -> я», поэтому комбинация «о -> к» давала большую вероятность, которая была максимизирована за счет алгоритм"
   ]
  },
  {
   "cell_type": "markdown",
   "metadata": {},
   "source": []
  },
  {
   "cell_type": "code",
   "execution_count": null,
   "metadata": {
    "is_executing": true
   },
   "outputs": [],
   "source": [
    "plt.figure(figsize=(10, 7))\n",
    "plt.plot(g.avg_scores_per_iter)\n",
    "plt.title(\"Average Log Likelihood vs. Iter\")\n",
    "plt.xlabel(\"Iter Num\")\n",
    "plt.ylabel(\"Log Likelihood\")"
   ]
  },
  {
   "cell_type": "code",
   "execution_count": null,
   "metadata": {
    "is_executing": true
   },
   "outputs": [],
   "source": [
    "plt.figure(figsize=(10, 7))\n",
    "plt.plot(g.best_scores_per_iter)\n",
    "plt.title(\"Best Log Likelihood vs. Iter\")\n",
    "plt.xlabel(\"Iter Num\")\n",
    "plt.ylabel(\"Log Likelihood\")"
   ]
  },
  {
   "cell_type": "code",
   "execution_count": null,
   "metadata": {
    "is_executing": true
   },
   "outputs": [],
   "source": []
  }
 ],
 "metadata": {
  "kernelspec": {
   "name": "python3",
   "language": "python",
   "display_name": "Python 3 (ipykernel)"
  },
  "language_info": {
   "codemirror_mode": {
    "name": "ipython",
    "version": 3
   },
   "file_extension": ".py",
   "mimetype": "text/x-python",
   "name": "python",
   "nbconvert_exporter": "python",
   "pygments_lexer": "ipython3",
   "version": "3.8.2"
  }
 },
 "nbformat": 4,
 "nbformat_minor": 4
}
